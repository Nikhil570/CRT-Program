{
  "nbformat": 4,
  "nbformat_minor": 0,
  "metadata": {
    "colab": {
      "name": "4.12.19",
      "provenance": [],
      "include_colab_link": true
    },
    "kernelspec": {
      "name": "python3",
      "display_name": "Python 3"
    }
  },
  "cells": [
    {
      "cell_type": "markdown",
      "metadata": {
        "id": "view-in-github",
        "colab_type": "text"
      },
      "source": [
        "<a href=\"https://colab.research.google.com/github/Nikhil570/CRT-Program/blob/master/4_12_19.ipynb\" target=\"_parent\"><img src=\"https://colab.research.google.com/assets/colab-badge.svg\" alt=\"Open In Colab\"/></a>"
      ]
    },
    {
      "cell_type": "code",
      "metadata": {
        "id": "PY_LVUCbADoa",
        "colab_type": "code",
        "colab": {}
      },
      "source": [
        ""
      ],
      "execution_count": 0,
      "outputs": []
    },
    {
      "cell_type": "markdown",
      "metadata": {
        "id": "tLFOfVpkAHWX",
        "colab_type": "text"
      },
      "source": [
        "###Functional Programming\n",
        "1.simple\n",
        "2.easy to understand\n",
        "3.better to reuseabitity\n",
        "4.length of program will be divided into sub programs"
      ]
    },
    {
      "cell_type": "markdown",
      "metadata": {
        "id": "abE3xuDHBrOV",
        "colab_type": "text"
      },
      "source": [
        " def name of function(<parameters>):\n",
        " statements\n",
        " return"
      ]
    },
    {
      "cell_type": "markdown",
      "metadata": {
        "id": "L9rQv4oDCHsG",
        "colab_type": "text"
      },
      "source": [
        "#read a number\n",
        "#print the even digit sum from the number\n"
      ]
    },
    {
      "cell_type": "markdown",
      "metadata": {
        "id": "Mk83ESaFCzIm",
        "colab_type": "text"
      },
      "source": [
        "#read a number\n",
        "#print the even digit sum from the number"
      ]
    },
    {
      "cell_type": "code",
      "metadata": {
        "id": "RA3mAIkUDie8",
        "colab_type": "code",
        "colab": {}
      },
      "source": [
        ""
      ],
      "execution_count": 0,
      "outputs": []
    },
    {
      "cell_type": "code",
      "metadata": {
        "id": "wLEB2FqwDmrw",
        "colab_type": "code",
        "colab": {}
      },
      "source": [
        "#input:1234\n",
        "#output:6(2+4)"
      ],
      "execution_count": 0,
      "outputs": []
    },
    {
      "cell_type": "code",
      "metadata": {
        "id": "bXLaKA0UE95W",
        "colab_type": "code",
        "colab": {
          "base_uri": "https://localhost:8080/",
          "height": 34
        },
        "outputId": "02ba5cd7-c31d-42b1-95a8-47a8846fb2ab"
      },
      "source": [
        "def evenDigitsum(n):\n",
        "   s=0\n",
        "   while n !=0:\n",
        "      r=n %10\n",
        "      if r%2==0:\n",
        "           s=s+r\n",
        "      n=n // 10 \n",
        "   return s\n",
        "evenDigitsum(1234)"
      ],
      "execution_count": 5,
      "outputs": [
        {
          "output_type": "execute_result",
          "data": {
            "text/plain": [
              "6"
            ]
          },
          "metadata": {
            "tags": []
          },
          "execution_count": 5
        }
      ]
    },
    {
      "cell_type": "code",
      "metadata": {
        "id": "k3p5LnzZFiBZ",
        "colab_type": "code",
        "colab": {
          "base_uri": "https://localhost:8080/",
          "height": 51
        },
        "outputId": "f5b0f5ea-d0e6-449a-b756-87d0f9f27b39"
      },
      "source": [
        "def square(x):\n",
        "  print(x*x)\n",
        "print(square(4))"
      ],
      "execution_count": 7,
      "outputs": [
        {
          "output_type": "stream",
          "text": [
            "16\n",
            "None\n"
          ],
          "name": "stdout"
        }
      ]
    },
    {
      "cell_type": "code",
      "metadata": {
        "id": "S3Yf8_lcH7pG",
        "colab_type": "code",
        "colab": {
          "base_uri": "https://localhost:8080/",
          "height": 34
        },
        "outputId": "b39c8036-870d-48d5-feae-d1395d0d70ee"
      },
      "source": [
        "def square(x):\n",
        "  return x*x\n",
        "square(3)"
      ],
      "execution_count": 8,
      "outputs": [
        {
          "output_type": "execute_result",
          "data": {
            "text/plain": [
              "9"
            ]
          },
          "metadata": {
            "tags": []
          },
          "execution_count": 8
        }
      ]
    },
    {
      "cell_type": "code",
      "metadata": {
        "id": "8Bm9C7s4IP4G",
        "colab_type": "code",
        "colab": {
          "base_uri": "https://localhost:8080/",
          "height": 34
        },
        "outputId": "7ab648a7-3277-4368-ba35-30f8f5ebb740"
      },
      "source": [
        "def cube(x):\n",
        "  return x*x*x\n",
        "cube(3)"
      ],
      "execution_count": 10,
      "outputs": [
        {
          "output_type": "execute_result",
          "data": {
            "text/plain": [
              "27"
            ]
          },
          "metadata": {
            "tags": []
          },
          "execution_count": 10
        }
      ]
    },
    {
      "cell_type": "code",
      "metadata": {
        "id": "hy9V4FoAJHmy",
        "colab_type": "code",
        "colab": {
          "base_uri": "https://localhost:8080/",
          "height": 68
        },
        "outputId": "c9dd9292-e483-4e32-f25c-577626f82345"
      },
      "source": [
        "def multiply(x,y=0):\n",
        "  print(\"value of x=\",x)\n",
        "  print(\"value of y=\",y)\n",
        "  return(x*y)\n",
        "print(multiply(y=2,x=4))\n",
        "          "
      ],
      "execution_count": 12,
      "outputs": [
        {
          "output_type": "stream",
          "text": [
            "value of x= 4\n",
            "value of y= 2\n",
            "8\n"
          ],
          "name": "stdout"
        }
      ]
    },
    {
      "cell_type": "code",
      "metadata": {
        "id": "Q88phKg2KQO2",
        "colab_type": "code",
        "colab": {}
      },
      "source": [
        ""
      ],
      "execution_count": 0,
      "outputs": []
    },
    {
      "cell_type": "markdown",
      "metadata": {
        "id": "Xo_sHqIAKsn-",
        "colab_type": "text"
      },
      "source": [
        "#Swapping values"
      ]
    },
    {
      "cell_type": "code",
      "metadata": {
        "id": "XQaRZwbyME-v",
        "colab_type": "code",
        "colab": {
          "base_uri": "https://localhost:8080/",
          "height": 34
        },
        "outputId": "d25ae13d-6e10-4c71-b4ca-2e4472e2fc93"
      },
      "source": [
        "# swap values\n",
        "def swap(x,y):\n",
        "  temp = x\n",
        "  x=y\n",
        "  y=temp\n",
        "  return 2,3\n",
        "print(swap(2,3))"
      ],
      "execution_count": 18,
      "outputs": [
        {
          "output_type": "stream",
          "text": [
            "(2, 3)\n"
          ],
          "name": "stdout"
        }
      ]
    },
    {
      "cell_type": "code",
      "metadata": {
        "id": "7Z5ttQlxPF2M",
        "colab_type": "code",
        "colab": {
          "base_uri": "https://localhost:8080/",
          "height": 34
        },
        "outputId": "c4f6bd8e-8974-4f33-a826-240470e9ad3b"
      },
      "source": [
        "#input : 19535\n",
        "#output : 9 (large digit of the given no)\n",
        "def largeDigit(n):\n",
        "  large=0\n",
        "  while n!=0:\n",
        "    r=n%10\n",
        "    if large < r:\n",
        "      large = r\n",
        "    n=n//10\n",
        "  return large \n",
        "largeDigit(19535)"
      ],
      "execution_count": 25,
      "outputs": [
        {
          "output_type": "execute_result",
          "data": {
            "text/plain": [
              "9"
            ]
          },
          "metadata": {
            "tags": []
          },
          "execution_count": 25
        }
      ]
    },
    {
      "cell_type": "code",
      "metadata": {
        "id": "yrapXHMaRzCq",
        "colab_type": "code",
        "colab": {}
      },
      "source": [
        ""
      ],
      "execution_count": 0,
      "outputs": []
    },
    {
      "cell_type": "markdown",
      "metadata": {
        "id": "MSeEbkbjR_Ag",
        "colab_type": "text"
      },
      "source": [
        "##For Loop"
      ]
    },
    {
      "cell_type": "markdown",
      "metadata": {
        "id": "kRsR_YZTTMCG",
        "colab_type": "text"
      },
      "source": [
        "syntax1:\n",
        "for i in range(start,stop,step)\n",
        ">statements\n",
        "syntax2:\n",
        "for i in iterableobject:\n",
        ">statements"
      ]
    },
    {
      "cell_type": "code",
      "metadata": {
        "id": "CWhB6kfcTs3f",
        "colab_type": "code",
        "colab": {
          "base_uri": "https://localhost:8080/",
          "height": 34
        },
        "outputId": "4b67ce34-6cd7-4590-ea8e-058a58ceb846"
      },
      "source": [
        "def printseries(lb,ub):\n",
        "    for x in range(lb,ub+1):\n",
        "        print(x,end = ' ')\n",
        "    return\n",
        "printseries(1,10)"
      ],
      "execution_count": 31,
      "outputs": [
        {
          "output_type": "stream",
          "text": [
            "1 2 3 4 5 6 7 8 9 10 "
          ],
          "name": "stdout"
        }
      ]
    },
    {
      "cell_type": "markdown",
      "metadata": {
        "id": "T_W5FJL7WJ9P",
        "colab_type": "text"
      },
      "source": [
        "## Collection types:\n",
        "1.List\n",
        "2.Tuple\n",
        "3.set\n",
        "4.dictionary"
      ]
    },
    {
      "cell_type": "code",
      "metadata": {
        "id": "HMva_pfxTlRB",
        "colab_type": "code",
        "colab": {}
      },
      "source": [
        ""
      ],
      "execution_count": 0,
      "outputs": []
    },
    {
      "cell_type": "markdown",
      "metadata": {
        "id": "2TnlLJ9PWwxY",
        "colab_type": "text"
      },
      "source": [
        "#### List\n",
        "1.one of the data structure in python\n",
        "2.data structure means to store,sort and search options\n"
      ]
    },
    {
      "cell_type": "markdown",
      "metadata": {
        "id": "vpPBqXHNXHev",
        "colab_type": "text"
      },
      "source": [
        "2.It's one common data structures in python,the items of list seperated by coma and enclosed in square brackets"
      ]
    },
    {
      "cell_type": "markdown",
      "metadata": {
        "id": "nLFQefnAXmJQ",
        "colab_type": "text"
      },
      "source": [
        ""
      ]
    },
    {
      "cell_type": "markdown",
      "metadata": {
        "id": "LJlZMHjyYiex",
        "colab_type": "text"
      },
      "source": [
        "Examples"
      ]
    },
    {
      "cell_type": "markdown",
      "metadata": {
        "id": "MSxnt5N_YmkB",
        "colab_type": "text"
      },
      "source": [
        "List=[1,2,3,4,5]-List2=[\"Gitam\",1,2]"
      ]
    },
    {
      "cell_type": "code",
      "metadata": {
        "id": "IjWwDY1LZFMr",
        "colab_type": "code",
        "colab": {
          "base_uri": "https://localhost:8080/",
          "height": 119
        },
        "outputId": "5d3333bf-bfde-4fad-9eaf-d5280923e84d"
      },
      "source": [
        "li=[1,8,16,9,2]\n",
        "print(li)#will print all the list items\n",
        "print(li[0])\n",
        "print(li[-5])\n",
        "print(li[1:])\n",
        "print(li[1:4])\n",
        "print(li[-4:-1])"
      ],
      "execution_count": 32,
      "outputs": [
        {
          "output_type": "stream",
          "text": [
            "[1, 8, 16, 9, 2]\n",
            "1\n",
            "1\n",
            "[8, 16, 9, 2]\n",
            "[8, 16, 9]\n",
            "[8, 16, 9]\n"
          ],
          "name": "stdout"
        }
      ]
    },
    {
      "cell_type": "markdown",
      "metadata": {
        "id": "060PEGv2Xiwv",
        "colab_type": "text"
      },
      "source": [
        ""
      ]
    }
  ]
}